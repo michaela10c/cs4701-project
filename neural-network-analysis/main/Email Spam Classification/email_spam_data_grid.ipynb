{
 "cells": [
  {
   "cell_type": "code",
   "execution_count": null,
   "metadata": {
    "id": "ShkeVrc99lXH"
   },
   "outputs": [],
   "source": [
    "#import libraries\n",
    "import numpy as np\n",
    "import pandas\n",
    "from sklearn.linear_model import LogisticRegression, LogisticRegressionCV\n",
    "from sklearn.model_selection import train_test_split, GridSearchCV\n",
    "from sklearn.metrics import accuracy_score\n",
    "from sklearn.neural_network import MLPClassifier\n",
    "from sklearn.neural_network import MLPRegressor\n",
    "from sklearn.metrics import classification_report\n",
    "import time"
   ]
  },
  {
   "cell_type": "code",
   "execution_count": null,
   "metadata": {
    "id": "VEM3mghr94Rj"
   },
   "outputs": [],
   "source": [
    "#import data\n",
    "data_small = pandas.read_csv('emails.csv')\n",
    "y = data_small['Prediction'] #original\n",
    "X = data_small[data_small.columns[1:-1]] #original\n",
    "\n",
    "# 80-20 train-test split\n",
    "X_train, X_test, y_train, y_test = train_test_split(X, y, test_size = 0.2, random_state = 1)"
   ]
  },
  {
   "cell_type": "code",
   "execution_count": null,
   "metadata": {
    "id": "sfO40CTh-Axg"
   },
   "outputs": [],
   "source": [
    "#preprocess\n",
    "\n",
    "indices_to_keep=~X_train.isin([np.nan,np.inf,-np.inf]).any(1)\n",
    "\n",
    "X_train=X_train[indices_to_keep]\n",
    "y_train=y_train[indices_to_keep]\n",
    "\n",
    "indices_to_keep_test=~X_test.isin([np.nan,np.inf,-np.inf]).any(1)\n",
    "\n",
    "X_test=X_test[indices_to_keep_test]\n",
    "y_test=y_test[indices_to_keep_test]"
   ]
  },
  {
   "cell_type": "code",
   "execution_count": null,
   "metadata": {
    "id": "i_pk1qyw-FjT"
   },
   "outputs": [],
   "source": [
    "#Neural Network to generate predictions\n",
    "def predNN_2(X_train, y_train):\n",
    "    clf = GridSearchCV(estimator=MLPClassifier(max_iter=50000),\n",
    "          param_grid={'early_stopping' : [True, False],\n",
    "                      'hidden_layer_sizes': [100, 150],\n",
    "                      'activation': ['relu','tanh'],\n",
    "                      'learning_rate': ['constant','adaptive'],\n",
    "                      'learning_rate_init': [0.01, 0.1],\n",
    "                      'solver': ['adam']},\n",
    "                      cv=5,n_jobs=-1,verbose=6)\n",
    "    \n",
    "    # Note: GridSearchCV by default performs 5-fold CV. \n",
    "    \n",
    "    print(\"Fitting\")\n",
    "    t0 = time.time()\n",
    "    clf.fit(X_train, y_train)\n",
    "    t1 = time.time()\n",
    "    print(\"Optimized parameters:\", clf.best_params_)\n",
    "    print(\"Weighted validation score:\", clf.best_score_)\n",
    "    print(\"time:\", t1-t0)\n",
    "    return clf"
   ]
  },
  {
   "cell_type": "code",
   "execution_count": null,
   "metadata": {
    "colab": {
     "base_uri": "https://localhost:8080/"
    },
    "id": "KsVy2KGL-S0_",
    "outputId": "7551552d-866f-4d81-bc47-6a744a7005d2"
   },
   "outputs": [
    {
     "name": "stdout",
     "output_type": "stream",
     "text": [
      "Fitting\n",
      "Fitting 5 folds for each of 32 candidates, totalling 160 fits\n",
      "Optimized parameters: {'activation': 'relu', 'early_stopping': True, 'hidden_layer_sizes': 100, 'learning_rate': 'constant', 'learning_rate_init': 0.01, 'solver': 'adam'}\n",
      "Weighted validation score: 0.9821104159729888\n",
      "time: 1817.4925224781036\n"
     ]
    }
   ],
   "source": [
    "#Calling Neural Network for Predictions\n",
    "classifier = predNN_2(X_train.values, y_train.values)\n",
    "preds = classifier.predict(X_test.values)"
   ]
  },
  {
   "cell_type": "code",
   "execution_count": null,
   "metadata": {
    "id": "bBDwcYRW-hgh"
   },
   "outputs": [],
   "source": [
    "with open('gridcv_adam.txt', 'w') as file:\n",
    "    file.write(str(classifier.cv_results_))"
   ]
  },
  {
   "cell_type": "code",
   "execution_count": null,
   "metadata": {
    "colab": {
     "base_uri": "https://localhost:8080/"
    },
    "id": "2GopcVJL-psX",
    "outputId": "20954a7b-96a6-437f-f436-18d2a9fdbb16"
   },
   "outputs": [
    {
     "name": "stdout",
     "output_type": "stream",
     "text": [
      "Training time is 10.122442722320557 seconds\n"
     ]
    }
   ],
   "source": [
    "activation = classifier.best_params_['activation']\n",
    "hidden_layer_sizes = classifier.best_params_['hidden_layer_sizes']\n",
    "learning_rate = classifier.best_params_['learning_rate']\n",
    "learning_rate_init = classifier.best_params_['learning_rate_init']\n",
    "early_stopping = classifier.best_params_['early_stopping']\n",
    "\n",
    "classifier = MLPClassifier(early_stopping=early_stopping, activation=activation, hidden_layer_sizes=hidden_layer_sizes, max_iter=50000, learning_rate=learning_rate, learning_rate_init=learning_rate_init)\n",
    "t0 = time.time()\n",
    "classifier.fit(X_train.values, y_train.values)\n",
    "t1 = time.time()\n",
    "print('Training time is', t1 - t0, 'seconds')"
   ]
  },
  {
   "cell_type": "code",
   "execution_count": null,
   "metadata": {
    "colab": {
     "base_uri": "https://localhost:8080/"
    },
    "id": "Uhxozpw4-yHz",
    "outputId": "0e03a6be-5d0f-41a1-b2f9-72586812aac0"
   },
   "outputs": [
    {
     "data": {
      "text/plain": [
       "0.9973410684070583"
      ]
     },
     "execution_count": 19,
     "metadata": {},
     "output_type": "execute_result"
    }
   ],
   "source": [
    "#training accuracy\n",
    "train_accNN = accuracy_score(y_train.values, classifier.predict(X_train.values)) \n",
    "train_accNN"
   ]
  },
  {
   "cell_type": "code",
   "execution_count": null,
   "metadata": {
    "colab": {
     "base_uri": "https://localhost:8080/"
    },
    "id": "bBTl0wcn_O2Z",
    "outputId": "18540f6a-5e31-47c8-9f0b-292003980ae8"
   },
   "outputs": [
    {
     "data": {
      "text/plain": [
       "0.9729468599033816"
      ]
     },
     "execution_count": 20,
     "metadata": {},
     "output_type": "execute_result"
    }
   ],
   "source": [
    "#test accuracy\n",
    "test_accNN = accuracy_score(y_test.values, classifier.predict(X_test.values)) \n",
    "test_accNN"
   ]
  }
 ],
 "metadata": {
  "colab": {
   "name": "grid_4701.ipynb",
   "provenance": []
  },
  "kernelspec": {
   "display_name": "Python 3",
   "language": "python",
   "name": "python3"
  },
  "language_info": {
   "codemirror_mode": {
    "name": "ipython",
    "version": 3
   },
   "file_extension": ".py",
   "mimetype": "text/x-python",
   "name": "python",
   "nbconvert_exporter": "python",
   "pygments_lexer": "ipython3",
   "version": "3.8.8"
  }
 },
 "nbformat": 4,
 "nbformat_minor": 1
}
