{
 "cells": [
  {
   "cell_type": "code",
   "execution_count": null,
   "metadata": {
    "id": "Z0ZA0Nw6FcuB"
   },
   "outputs": [],
   "source": [
    "#import libraries\n",
    "import numpy as np\n",
    "import pandas\n",
    "from sklearn.model_selection import train_test_split\n",
    "from time import time\n",
    "from keras.models import Sequential\n",
    "from keras.layers.core import Dense, Dropout, Activation, Flatten\n",
    "from keras.layers.convolutional import Convolution1D, MaxPooling1D\n",
    "import keras.utils"
   ]
  },
  {
   "cell_type": "code",
   "execution_count": null,
   "metadata": {
    "id": "ZkUPIVu9F7nr"
   },
   "outputs": [],
   "source": [
    "#import data\n",
    "data_small = pandas.read_csv('emails.csv')\n",
    "y = data_small['Prediction']\n",
    "X = data_small[data_small.columns[1:-1]]\n",
    "\n",
    "# 80-20 train-test split\n",
    "X_train, X_test, y_train, y_test = train_test_split(X, y, test_size = 0.2, random_state = 1)\n",
    "\n",
    "# 80-20 train-validation split\n",
    "X_training, X_validation, y_training, y_validation = train_test_split(X_train, y_train, test_size = 0.2, random_state = 1)"
   ]
  },
  {
   "cell_type": "code",
   "execution_count": null,
   "metadata": {
    "id": "rzpRVMGvGv0g"
   },
   "outputs": [],
   "source": [
    "#preprocess\n",
    "\n",
    "indices_to_keep=~X_training.isin([np.nan,np.inf,-np.inf]).any(1)\n",
    "X_training = X_training[indices_to_keep]\n",
    "y_training = y_training[indices_to_keep]\n",
    "\n",
    "indices_to_keep=~X_validation.isin([np.nan,np.inf,-np.inf]).any(1)\n",
    "X_validation = X_validation[indices_to_keep]\n",
    "y_validation = y_validation[indices_to_keep]\n",
    "\n",
    "indices_to_keep_test=~X_test.isin([np.nan,np.inf,-np.inf]).any(1)\n",
    "\n",
    "X_test=X_test[indices_to_keep_test]\n",
    "y_test=y_test[indices_to_keep_test]"
   ]
  },
  {
   "cell_type": "code",
   "execution_count": null,
   "metadata": {
    "id": "DsaRAPq-HW32"
   },
   "outputs": [],
   "source": [
    "length_train = len(X_training)\n",
    "X_training=X_training.iloc[:,:].values.reshape(length_train,3000,1)\n",
    "\n",
    "length_validation = len(X_validation)\n",
    "X_validation=X_validation.iloc[:,:].values.reshape(length_validation,3000,1)\n",
    "\n",
    "length_t = len(X_test)\n",
    "X_test = X_test.iloc[:,:].values.reshape(length_t,3000,1)"
   ]
  },
  {
   "cell_type": "code",
   "execution_count": null,
   "metadata": {
    "id": "wY11iXjHHjHT"
   },
   "outputs": [],
   "source": [
    "y_training_n = []\n",
    "for item in y_training:\n",
    "    if item == 0:\n",
    "        y_training_n.append(0)\n",
    "    elif item == 1:\n",
    "        y_training_n.append(1)\n",
    "y_training_n = keras.utils.np_utils.to_categorical(y_training_n, num_classes=2)"
   ]
  },
  {
   "cell_type": "code",
   "execution_count": null,
   "metadata": {
    "id": "NE-7Voc8NCOv"
   },
   "outputs": [],
   "source": [
    "y_validation_n = []\n",
    "for item in y_validation:\n",
    "    if item == 0:\n",
    "        y_validation_n.append(0)\n",
    "    elif item == 1:\n",
    "        y_validation_n.append(1)\n",
    "y_validation_n = keras.utils.np_utils.to_categorical(y_validation_n, num_classes=2)"
   ]
  },
  {
   "cell_type": "code",
   "execution_count": null,
   "metadata": {
    "id": "GdWd9HZLNWu0"
   },
   "outputs": [],
   "source": [
    "y_test_n = []\n",
    "for ele in y_test:\n",
    "    if ele == 0:\n",
    "        y_test_n.append(0)\n",
    "    elif ele == 1:\n",
    "        y_test_n.append(1)\n",
    "y_test_n = keras.utils.np_utils.to_categorical(y_test_n, num_classes=2)"
   ]
  },
  {
   "cell_type": "code",
   "execution_count": null,
   "metadata": {
    "id": "Ji_YdOZ-NjDI"
   },
   "outputs": [],
   "source": [
    "#CNN\n",
    "model = Sequential()\n",
    "model.add(Convolution1D(32,3,activation=\"relu\",input_shape=(3000,1)))\n",
    "model.add(MaxPooling1D(pool_size=2))\n",
    "model.add(Convolution1D(40,11,activation=\"relu\",input_shape=(3000,1)))\n",
    "model.add(MaxPooling1D(pool_size=2))\n",
    "model.add(Flatten())\n",
    "model.add(Dense(2))\n",
    "model.add(Activation('sigmoid'))\n",
    "model.compile(loss='binary_crossentropy', optimizer = 'RMSprop', metrics=['accuracy'])"
   ]
  },
  {
   "cell_type": "code",
   "execution_count": null,
   "metadata": {
    "colab": {
     "base_uri": "https://localhost:8080/"
    },
    "id": "mb6Qm5hWpYSd",
    "outputId": "db94f5b0-e40d-45b9-b5d9-88250b61f1ae"
   },
   "outputs": [
    {
     "name": "stdout",
     "output_type": "stream",
     "text": [
      "Model: \"sequential\"\n",
      "_________________________________________________________________\n",
      " Layer (type)                Output Shape              Param #   \n",
      "=================================================================\n",
      " conv1d (Conv1D)             (None, 2998, 32)          128       \n",
      "                                                                 \n",
      " max_pooling1d (MaxPooling1D  (None, 1499, 32)         0         \n",
      " )                                                               \n",
      "                                                                 \n",
      " conv1d_1 (Conv1D)           (None, 1489, 40)          14120     \n",
      "                                                                 \n",
      " max_pooling1d_1 (MaxPooling  (None, 744, 40)          0         \n",
      " 1D)                                                             \n",
      "                                                                 \n",
      " flatten (Flatten)           (None, 29760)             0         \n",
      "                                                                 \n",
      " dense (Dense)               (None, 2)                 59522     \n",
      "                                                                 \n",
      " activation (Activation)     (None, 2)                 0         \n",
      "                                                                 \n",
      "=================================================================\n",
      "Total params: 73,770\n",
      "Trainable params: 73,770\n",
      "Non-trainable params: 0\n",
      "_________________________________________________________________\n"
     ]
    }
   ],
   "source": [
    "model.summary()"
   ]
  },
  {
   "cell_type": "code",
   "execution_count": null,
   "metadata": {
    "colab": {
     "base_uri": "https://localhost:8080/"
    },
    "id": "9wwsHWBKtYix",
    "outputId": "ef5183bf-12c7-4959-d34a-fc726d2a9efa"
   },
   "outputs": [
    {
     "name": "stdout",
     "output_type": "stream",
     "text": [
      "Epoch 1/30\n",
      "104/104 [==============================] - 22s 197ms/step - loss: 0.5430 - accuracy: 0.7791 - val_loss: 0.2645 - val_accuracy: 0.8671\n",
      "Epoch 2/30\n",
      "104/104 [==============================] - 20s 196ms/step - loss: 0.2795 - accuracy: 0.9145 - val_loss: 0.2520 - val_accuracy: 0.8925\n",
      "Epoch 3/30\n",
      "104/104 [==============================] - 21s 199ms/step - loss: 0.1679 - accuracy: 0.9468 - val_loss: 0.1591 - val_accuracy: 0.9420\n",
      "Epoch 4/30\n",
      "104/104 [==============================] - 21s 199ms/step - loss: 0.1442 - accuracy: 0.9622 - val_loss: 0.2389 - val_accuracy: 0.9082\n",
      "Epoch 5/30\n",
      "104/104 [==============================] - 21s 200ms/step - loss: 0.1055 - accuracy: 0.9701 - val_loss: 0.1618 - val_accuracy: 0.9517\n",
      "Epoch 6/30\n",
      "104/104 [==============================] - 21s 199ms/step - loss: 0.0855 - accuracy: 0.9755 - val_loss: 0.1771 - val_accuracy: 0.9312\n",
      "Epoch 7/30\n",
      "104/104 [==============================] - 21s 200ms/step - loss: 0.0772 - accuracy: 0.9798 - val_loss: 0.1899 - val_accuracy: 0.9481\n",
      "Epoch 8/30\n",
      "104/104 [==============================] - 21s 200ms/step - loss: 0.0571 - accuracy: 0.9861 - val_loss: 0.1190 - val_accuracy: 0.9529\n",
      "Epoch 9/30\n",
      "104/104 [==============================] - 20s 196ms/step - loss: 0.0417 - accuracy: 0.9885 - val_loss: 0.1414 - val_accuracy: 0.9553\n",
      "Epoch 10/30\n",
      "104/104 [==============================] - 20s 196ms/step - loss: 0.0413 - accuracy: 0.9934 - val_loss: 0.1567 - val_accuracy: 0.9529\n",
      "Epoch 11/30\n",
      "104/104 [==============================] - 20s 195ms/step - loss: 0.0317 - accuracy: 0.9937 - val_loss: 0.1770 - val_accuracy: 0.9553\n",
      "Epoch 12/30\n",
      "104/104 [==============================] - 21s 198ms/step - loss: 0.0297 - accuracy: 0.9955 - val_loss: 0.1583 - val_accuracy: 0.9553\n",
      "Epoch 13/30\n",
      "104/104 [==============================] - 20s 196ms/step - loss: 0.0276 - accuracy: 0.9964 - val_loss: 0.2179 - val_accuracy: 0.9517\n",
      "Epoch 14/30\n",
      "104/104 [==============================] - 20s 195ms/step - loss: 0.0214 - accuracy: 0.9964 - val_loss: 0.2156 - val_accuracy: 0.9577\n",
      "Epoch 15/30\n",
      "104/104 [==============================] - 20s 195ms/step - loss: 0.0439 - accuracy: 0.9964 - val_loss: 0.2948 - val_accuracy: 0.9541\n",
      "Epoch 16/30\n",
      "104/104 [==============================] - 20s 195ms/step - loss: 0.0214 - accuracy: 0.9970 - val_loss: 0.1984 - val_accuracy: 0.9601\n",
      "Epoch 17/30\n",
      "104/104 [==============================] - 20s 195ms/step - loss: 0.0089 - accuracy: 0.9982 - val_loss: 0.1910 - val_accuracy: 0.9626\n",
      "Epoch 18/30\n",
      "104/104 [==============================] - 20s 195ms/step - loss: 0.0193 - accuracy: 0.9985 - val_loss: 0.2483 - val_accuracy: 0.9601\n",
      "Epoch 19/30\n",
      "104/104 [==============================] - 20s 195ms/step - loss: 0.0131 - accuracy: 0.9988 - val_loss: 0.3336 - val_accuracy: 0.9517\n",
      "Epoch 20/30\n",
      "104/104 [==============================] - 22s 212ms/step - loss: 0.0135 - accuracy: 0.9991 - val_loss: 0.1995 - val_accuracy: 0.9626\n",
      "Epoch 21/30\n",
      "104/104 [==============================] - 20s 196ms/step - loss: 0.0164 - accuracy: 0.9991 - val_loss: 0.2048 - val_accuracy: 0.9601\n",
      "Epoch 22/30\n",
      "104/104 [==============================] - 20s 196ms/step - loss: 0.0253 - accuracy: 0.9982 - val_loss: 0.2508 - val_accuracy: 0.9601\n",
      "Epoch 23/30\n",
      "104/104 [==============================] - 21s 198ms/step - loss: 0.0092 - accuracy: 0.9985 - val_loss: 0.2250 - val_accuracy: 0.9589\n",
      "Epoch 24/30\n",
      "104/104 [==============================] - 20s 196ms/step - loss: 0.0042 - accuracy: 0.9994 - val_loss: 0.2491 - val_accuracy: 0.9577\n",
      "Epoch 25/30\n",
      "104/104 [==============================] - 21s 200ms/step - loss: 0.0075 - accuracy: 0.9997 - val_loss: 0.6019 - val_accuracy: 0.9408\n",
      "Epoch 26/30\n",
      "104/104 [==============================] - 21s 198ms/step - loss: 0.0141 - accuracy: 0.9988 - val_loss: 0.2760 - val_accuracy: 0.9565\n",
      "Epoch 27/30\n",
      "104/104 [==============================] - 21s 198ms/step - loss: 0.0036 - accuracy: 1.0000 - val_loss: 0.2522 - val_accuracy: 0.9638\n",
      "Epoch 28/30\n",
      "104/104 [==============================] - 21s 200ms/step - loss: 0.0088 - accuracy: 1.0000 - val_loss: 0.2949 - val_accuracy: 0.9638\n",
      "Epoch 29/30\n",
      "104/104 [==============================] - 20s 196ms/step - loss: 0.0042 - accuracy: 1.0000 - val_loss: 0.3415 - val_accuracy: 0.9601\n",
      "Epoch 30/30\n",
      "104/104 [==============================] - 20s 196ms/step - loss: 0.0220 - accuracy: 0.9994 - val_loss: 0.3187 - val_accuracy: 0.9614\n",
      "622.9242625236511\n"
     ]
    }
   ],
   "source": [
    "t0 = time()\n",
    "model.fit(X_training, y_training_n, validation_data = (X_validation, y_validation_n), epochs=30)\n",
    "print(time()-t0)"
   ]
  },
  {
   "cell_type": "code",
   "execution_count": null,
   "metadata": {
    "colab": {
     "base_uri": "https://localhost:8080/"
    },
    "id": "34Y0sNgRyrms",
    "outputId": "4e27a575-5508-4ff4-a429-eb93be50fbc0"
   },
   "outputs": [
    {
     "data": {
      "text/plain": [
       "array([[1.0000000e+00, 1.9631586e-19],\n",
       "       [8.2105299e-07, 9.9999946e-01],\n",
       "       [1.0000000e+00, 2.7458317e-19],\n",
       "       ...,\n",
       "       [1.0000000e+00, 3.0970793e-10],\n",
       "       [1.0000000e+00, 8.6037929e-29],\n",
       "       [1.0000000e+00, 5.5833426e-15]], dtype=float32)"
      ]
     },
     "execution_count": 18,
     "metadata": {},
     "output_type": "execute_result"
    }
   ],
   "source": [
    "model.predict(X_test)"
   ]
  },
  {
   "cell_type": "code",
   "execution_count": null,
   "metadata": {
    "colab": {
     "base_uri": "https://localhost:8080/"
    },
    "id": "k0X_4-Zyy86-",
    "outputId": "4d10de15-e8d2-4e84-ab1f-3dcc32aa3f21"
   },
   "outputs": [
    {
     "name": "stdout",
     "output_type": "stream",
     "text": [
      "33/33 [==============================] - 2s 53ms/step - loss: 0.3114 - accuracy: 0.9710\n"
     ]
    },
    {
     "data": {
      "text/plain": [
       "[0.31137093901634216, 0.9710144996643066]"
      ]
     },
     "execution_count": 19,
     "metadata": {},
     "output_type": "execute_result"
    }
   ],
   "source": [
    "model.evaluate(X_test, y_test_n)"
   ]
  }
 ],
 "metadata": {
  "colab": {
   "name": "FA21_cnn1.ipynb",
   "provenance": []
  },
  "kernelspec": {
   "display_name": "Python 3",
   "language": "python",
   "name": "python3"
  },
  "language_info": {
   "codemirror_mode": {
    "name": "ipython",
    "version": 3
   },
   "file_extension": ".py",
   "mimetype": "text/x-python",
   "name": "python",
   "nbconvert_exporter": "python",
   "pygments_lexer": "ipython3",
   "version": "3.8.8"
  }
 },
 "nbformat": 4,
 "nbformat_minor": 1
}
