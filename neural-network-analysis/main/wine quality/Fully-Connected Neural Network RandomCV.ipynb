{
 "cells": [
  {
   "cell_type": "markdown",
   "metadata": {},
   "source": [
    "# Multi-Layered Perceptron via Randomized Search CV # "
   ]
  },
  {
   "cell_type": "markdown",
   "metadata": {},
   "source": [
    "Instructions:\n",
    "\n",
    "Play around with these parameters here\n",
    "https://scikit-learn.org/stable/modules/generated/sklearn.neural_network.MLPClassifier.html \n",
    "\n",
    "Dataset:\n",
    "Use the UCI Wine Quality Dataset \n",
    "https://archive.ics.uci.edu/ml/datasets/wine+quality "
   ]
  },
  {
   "cell_type": "code",
   "execution_count": 2,
   "metadata": {
    "executionInfo": {
     "elapsed": 694,
     "status": "ok",
     "timestamp": 1618274218296,
     "user": {
      "displayName": "Casey Justus",
      "photoUrl": "",
      "userId": "06906745805334060521"
     },
     "user_tz": 240
    },
    "id": "ZU3LaV45oeI1"
   },
   "outputs": [],
   "source": [
    "#import libraries\n",
    "import numpy as np\n",
    "import pandas\n",
    "from sklearn.linear_model import LogisticRegression, LogisticRegressionCV\n",
    "from sklearn.model_selection import train_test_split, RandomizedSearchCV, GridSearchCV\n",
    "from sklearn.metrics import accuracy_score\n",
    "from sklearn.neural_network import MLPClassifier\n",
    "from sklearn.neural_network import MLPRegressor\n",
    "from sklearn.metrics import classification_report\n",
    "import time\n",
    "from sklearn.preprocessing import Normalizer\n",
    "from sklearn.preprocessing import StandardScaler, LabelEncoder\n",
    "\n",
    "\n",
    "import keras_tuner\n",
    "from keras_tuner.tuners import RandomSearch\n",
    "from keras_tuner.engine.hyperparameters import HyperParameters\n",
    "from tensorflow.keras.models import save_model\n",
    "from tensorflow.keras.models import model_from_json\n",
    "import warnings\n",
    "warnings.simplefilter(\"ignore\", UserWarning)\n",
    "from keras.callbacks import EarlyStopping"
   ]
  },
  {
   "cell_type": "markdown",
   "metadata": {},
   "source": [
    "### Red Wines Dataset ###"
   ]
  },
  {
   "cell_type": "code",
   "execution_count": 3,
   "metadata": {
    "executionInfo": {
     "elapsed": 1261,
     "status": "ok",
     "timestamp": 1618274362072,
     "user": {
      "displayName": "Casey Justus",
      "photoUrl": "",
      "userId": "06906745805334060521"
     },
     "user_tz": 240
    },
    "id": "xu4UtD9GotNW"
   },
   "outputs": [],
   "source": [
    "#import data\n",
    "label_quality = LabelEncoder()\n",
    "data_red = pandas.read_csv('winequality-red.csv', delimiter=';')\n",
    "data_red['quality'] = label_quality.fit_transform(data_red['quality'])\n",
    "y = data_red['quality']\n",
    "X = data_red[data_red.columns[:-1]]\n",
    "\n",
    "# 80-20 train-test split\n",
    "X_train, X_test, y_train, y_test = train_test_split(X, y, test_size = 0.2, random_state = 1)"
   ]
  },
  {
   "cell_type": "code",
   "execution_count": 4,
   "metadata": {},
   "outputs": [],
   "source": [
    "# Normalize\n",
    "sc = StandardScaler()\n",
    "X_train = sc.fit_transform(X_train)\n",
    "X_test = sc.fit_transform(X_test)"
   ]
  },
  {
   "cell_type": "code",
   "execution_count": 5,
   "metadata": {},
   "outputs": [],
   "source": [
    "N_test_red = len(X_test)"
   ]
  },
  {
   "cell_type": "code",
   "execution_count": 6,
   "metadata": {
    "executionInfo": {
     "elapsed": 593,
     "status": "ok",
     "timestamp": 1618274531199,
     "user": {
      "displayName": "Casey Justus",
      "photoUrl": "",
      "userId": "06906745805334060521"
     },
     "user_tz": 240
    },
    "id": "Hg2yC3qbovk_"
   },
   "outputs": [],
   "source": [
    "#Neural Network to generate predictions\n",
    "def predNN_2(X_train, y_train, wine_color = 'red'):\n",
    "    clf = RandomizedSearchCV(MLPClassifier(max_iter=50000, random_state=42),\n",
    "                      {'early_stopping' : [True, False],\n",
    "                      'hidden_layer_sizes': [100, 200, 300, 400, 500],\n",
    "                      'activation': ['relu', 'tanh', 'logistic'],\n",
    "                      'learning_rate': ['constant', 'invscaling', 'adaptive'],\n",
    "                      'learning_rate_init': [.0001, .001, .01, .1]},\n",
    "                      cv=5,n_jobs=-1,verbose=6,random_state=1,n_iter=20)\n",
    "    \n",
    "    # Note: GridSearchCV by default performs 5-fold CV. \n",
    "    \n",
    "    # Pick 20 sample configurations to perform CV on. \n",
    "    \n",
    "    print(\"Fitting\")\n",
    "    t0 = time.time()\n",
    "    clf.fit(X_train, y_train)\n",
    "    t1 = time.time()\n",
    "    print('Grid search CV time for', wine_color, 'wines took', t1 - t0, 'seconds')\n",
    "    print(\"Optimized parameters:\", clf.best_params_)\n",
    "    print(\"Weighted validation score:\", clf.best_score_)\n",
    "    return clf"
   ]
  },
  {
   "cell_type": "code",
   "execution_count": 7,
   "metadata": {
    "colab": {
     "base_uri": "https://localhost:8080/"
    },
    "executionInfo": {
     "elapsed": 3383536,
     "status": "ok",
     "timestamp": 1618277929036,
     "user": {
      "displayName": "Casey Justus",
      "photoUrl": "",
      "userId": "06906745805334060521"
     },
     "user_tz": 240
    },
    "id": "EoaPtCGNozj0",
    "outputId": "17084d71-3b6e-4baa-d1bf-39bca26724d8",
    "scrolled": false
   },
   "outputs": [
    {
     "name": "stdout",
     "output_type": "stream",
     "text": [
      "Fitting\n",
      "Fitting 5 folds for each of 20 candidates, totalling 100 fits\n",
      "Grid search CV time for red wines took 151.85131907463074 seconds\n",
      "Optimized parameters: {'learning_rate_init': 0.001, 'learning_rate': 'adaptive', 'hidden_layer_sizes': 300, 'early_stopping': False, 'activation': 'relu'}\n",
      "Weighted validation score: 0.6216115196078431\n"
     ]
    }
   ],
   "source": [
    "#Calling Neural Network for Predictions\n",
    "classifier = predNN_2(X_train, y_train, 'red')\n",
    "preds = classifier.predict(X_test)"
   ]
  },
  {
   "cell_type": "code",
   "execution_count": 8,
   "metadata": {},
   "outputs": [],
   "source": [
    "# write cv results (such as mean fit times for each hyperparam configuration) to file\n",
    "with open('fcnn_randomcv_red_adam.txt', 'w') as file:\n",
    "    file.write(str(classifier.cv_results_))"
   ]
  },
  {
   "cell_type": "code",
   "execution_count": 9,
   "metadata": {},
   "outputs": [
    {
     "name": "stdout",
     "output_type": "stream",
     "text": [
      "Training time time for red wines via Adam took 15.565123796463013 seconds\n"
     ]
    }
   ],
   "source": [
    "activation = classifier.best_params_['activation']\n",
    "hidden_layer_sizes = classifier.best_params_['hidden_layer_sizes']\n",
    "learning_rate = classifier.best_params_['learning_rate']\n",
    "learning_rate_init = classifier.best_params_['learning_rate_init']\n",
    "early_stopping = classifier.best_params_['early_stopping']\n",
    "\n",
    "classifier = MLPClassifier(early_stopping=early_stopping, activation=activation, hidden_layer_sizes=hidden_layer_sizes, max_iter=50000, learning_rate=learning_rate, learning_rate_init=learning_rate_init)\n",
    "t0 = time.time()\n",
    "classifier.fit(X_train, y_train)\n",
    "t1 = time.time()\n",
    "print('Training time time for red wines via Adam took', t1 - t0, 'seconds')"
   ]
  },
  {
   "cell_type": "code",
   "execution_count": 10,
   "metadata": {
    "colab": {
     "base_uri": "https://localhost:8080/"
    },
    "executionInfo": {
     "elapsed": 515,
     "status": "ok",
     "timestamp": 1618278143453,
     "user": {
      "displayName": "Casey Justus",
      "photoUrl": "",
      "userId": "06906745805334060521"
     },
     "user_tz": 240
    },
    "id": "K3PsZopPo6qW",
    "outputId": "f8d8636b-c25f-4516-dd1d-4e24cef6f146",
    "scrolled": false
   },
   "outputs": [
    {
     "data": {
      "text/plain": [
       "0.9953088350273651"
      ]
     },
     "execution_count": 10,
     "metadata": {},
     "output_type": "execute_result"
    }
   ],
   "source": [
    "#training accuracy\n",
    "train_accNN = accuracy_score(y_train, classifier.predict(X_train)) \n",
    "train_accNN"
   ]
  },
  {
   "cell_type": "code",
   "execution_count": 11,
   "metadata": {
    "colab": {
     "base_uri": "https://localhost:8080/"
    },
    "executionInfo": {
     "elapsed": 560,
     "status": "ok",
     "timestamp": 1618278161854,
     "user": {
      "displayName": "Casey Justus",
      "photoUrl": "",
      "userId": "06906745805334060521"
     },
     "user_tz": 240
    },
    "id": "FnlDbtlQo7PO",
    "outputId": "e336350b-3624-4422-ef32-acb885965bb7",
    "scrolled": false
   },
   "outputs": [
    {
     "data": {
      "text/plain": [
       "0.6375"
      ]
     },
     "execution_count": 11,
     "metadata": {},
     "output_type": "execute_result"
    }
   ],
   "source": [
    "#test accuracy\n",
    "test_accNN_red = accuracy_score(y_test, classifier.predict(X_test)) \n",
    "test_accNN_red"
   ]
  },
  {
   "cell_type": "markdown",
   "metadata": {},
   "source": [
    "### White Wines Dataset ###"
   ]
  },
  {
   "cell_type": "code",
   "execution_count": 12,
   "metadata": {
    "scrolled": true
   },
   "outputs": [],
   "source": [
    "#import data\n",
    "label_quality = LabelEncoder()\n",
    "data_white = pandas.read_csv('winequality-white.csv', delimiter=';')\n",
    "data_white['quality'] = label_quality.fit_transform(data_white['quality'])\n",
    "y = data_white['quality']\n",
    "X = data_white[data_white.columns[:-1]]\n",
    "\n",
    "# 80-20 train-test split\n",
    "X_train, X_test, y_train, y_test = train_test_split(X, y, test_size = 0.2, random_state = 1)"
   ]
  },
  {
   "cell_type": "code",
   "execution_count": 13,
   "metadata": {},
   "outputs": [],
   "source": [
    "# Normalize\n",
    "sc = StandardScaler()\n",
    "X_train = sc.fit_transform(X_train)\n",
    "X_test = sc.fit_transform(X_test)"
   ]
  },
  {
   "cell_type": "code",
   "execution_count": 14,
   "metadata": {},
   "outputs": [],
   "source": [
    "N_test_white = len(X_test)"
   ]
  },
  {
   "cell_type": "code",
   "execution_count": 15,
   "metadata": {
    "scrolled": true
   },
   "outputs": [
    {
     "name": "stdout",
     "output_type": "stream",
     "text": [
      "Fitting\n",
      "Fitting 5 folds for each of 20 candidates, totalling 100 fits\n",
      "Grid search CV time for white wines took 688.1731026172638 seconds\n",
      "Optimized parameters: {'learning_rate_init': 0.001, 'learning_rate': 'adaptive', 'hidden_layer_sizes': 500, 'early_stopping': False, 'activation': 'relu'}\n",
      "Weighted validation score: 0.6135774233064873\n"
     ]
    }
   ],
   "source": [
    "#Calling Neural Network for Predictions\n",
    "classifier = predNN_2(X_train, y_train, 'white')\n",
    "preds = classifier.predict(X_test)"
   ]
  },
  {
   "cell_type": "code",
   "execution_count": 16,
   "metadata": {},
   "outputs": [],
   "source": [
    "# write cv results (such as mean fit times for each hyperparam configuration) to file\n",
    "with open('fcnn_randomcv_white_adam.txt', 'w') as file:\n",
    "    file.write(str(classifier.cv_results_))"
   ]
  },
  {
   "cell_type": "code",
   "execution_count": 17,
   "metadata": {},
   "outputs": [
    {
     "name": "stdout",
     "output_type": "stream",
     "text": [
      "Training time time for white wines via Adam took 46.393786907196045 seconds\n"
     ]
    }
   ],
   "source": [
    "activation = classifier.best_params_['activation']\n",
    "hidden_layer_sizes = classifier.best_params_['hidden_layer_sizes']\n",
    "learning_rate = classifier.best_params_['learning_rate']\n",
    "learning_rate_init = classifier.best_params_['learning_rate_init']\n",
    "early_stopping = classifier.best_params_['early_stopping']\n",
    "\n",
    "classifier = MLPClassifier(early_stopping=early_stopping, activation=activation, hidden_layer_sizes=hidden_layer_sizes, max_iter=50000, learning_rate=learning_rate, learning_rate_init=learning_rate_init)\n",
    "t0 = time.time()\n",
    "classifier.fit(X_train, y_train)\n",
    "t1 = time.time()\n",
    "print('Training time time for white wines via Adam took', t1 - t0, 'seconds')"
   ]
  },
  {
   "cell_type": "code",
   "execution_count": 18,
   "metadata": {
    "scrolled": true
   },
   "outputs": [
    {
     "data": {
      "text/plain": [
       "0.9461459928534967"
      ]
     },
     "execution_count": 18,
     "metadata": {},
     "output_type": "execute_result"
    }
   ],
   "source": [
    "#training accuracy\n",
    "train_accNN = accuracy_score(y_train, classifier.predict(X_train)) \n",
    "train_accNN"
   ]
  },
  {
   "cell_type": "code",
   "execution_count": 19,
   "metadata": {
    "scrolled": true
   },
   "outputs": [
    {
     "data": {
      "text/plain": [
       "0.6183673469387755"
      ]
     },
     "execution_count": 19,
     "metadata": {},
     "output_type": "execute_result"
    }
   ],
   "source": [
    "#test accuracy\n",
    "test_accNN_white = accuracy_score(y_test, classifier.predict(X_test)) \n",
    "test_accNN_white"
   ]
  },
  {
   "cell_type": "markdown",
   "metadata": {},
   "source": [
    "### Weighted Accuracy ###"
   ]
  },
  {
   "cell_type": "code",
   "execution_count": 20,
   "metadata": {
    "scrolled": false
   },
   "outputs": [
    {
     "data": {
      "text/plain": [
       "0.6230769230769231"
      ]
     },
     "execution_count": 20,
     "metadata": {},
     "output_type": "execute_result"
    }
   ],
   "source": [
    "(N_test_red * test_accNN_red + N_test_white * test_accNN_white) / (N_test_white + N_test_red)"
   ]
  },
  {
   "cell_type": "code",
   "execution_count": null,
   "metadata": {},
   "outputs": [],
   "source": []
  }
 ],
 "metadata": {
  "colab": {
   "authorship_tag": "ABX9TyPAmzgoU9lZpwplAuHDHGWy",
   "name": "Neural Network 4780.ipynb",
   "provenance": []
  },
  "kernelspec": {
   "display_name": "Python 3",
   "language": "python",
   "name": "python3"
  },
  "language_info": {
   "codemirror_mode": {
    "name": "ipython",
    "version": 3
   },
   "file_extension": ".py",
   "mimetype": "text/x-python",
   "name": "python",
   "nbconvert_exporter": "python",
   "pygments_lexer": "ipython3",
   "version": "3.8.8"
  }
 },
 "nbformat": 4,
 "nbformat_minor": 1
}
