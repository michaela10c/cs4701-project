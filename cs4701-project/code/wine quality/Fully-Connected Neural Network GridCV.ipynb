{
 "cells": [
  {
   "cell_type": "markdown",
   "metadata": {},
   "source": [
    "# Multi-Layered Perceptron via Grid Search CV # "
   ]
  },
  {
   "cell_type": "code",
   "execution_count": 59,
   "metadata": {
    "executionInfo": {
     "elapsed": 694,
     "status": "ok",
     "timestamp": 1618274218296,
     "user": {
      "displayName": "Casey Justus",
      "photoUrl": "",
      "userId": "06906745805334060521"
     },
     "user_tz": 240
    },
    "id": "ZU3LaV45oeI1"
   },
   "outputs": [],
   "source": [
    "#import libraries\n",
    "import numpy as np\n",
    "import pandas\n",
    "from sklearn.linear_model import LogisticRegression, LogisticRegressionCV\n",
    "from sklearn.model_selection import train_test_split, GridSearchCV\n",
    "from sklearn.metrics import accuracy_score\n",
    "from sklearn.neural_network import MLPClassifier\n",
    "from sklearn.neural_network import MLPRegressor\n",
    "from sklearn.metrics import classification_report\n",
    "import time\n",
    "from sklearn.preprocessing import StandardScaler, LabelEncoder"
   ]
  },
  {
   "cell_type": "markdown",
   "metadata": {},
   "source": [
    "### Red Wines Dataset ###"
   ]
  },
  {
   "cell_type": "code",
   "execution_count": 60,
   "metadata": {
    "executionInfo": {
     "elapsed": 1261,
     "status": "ok",
     "timestamp": 1618274362072,
     "user": {
      "displayName": "Casey Justus",
      "photoUrl": "",
      "userId": "06906745805334060521"
     },
     "user_tz": 240
    },
    "id": "xu4UtD9GotNW"
   },
   "outputs": [],
   "source": [
    "#import data\n",
    "label_quality = LabelEncoder()\n",
    "data_red = pandas.read_csv('winequality-red.csv', delimiter=';')\n",
    "data_red['quality'] = label_quality.fit_transform(data_red['quality'])\n",
    "y = data_red['quality']\n",
    "X = data_red[data_red.columns[:-1]]\n",
    "\n",
    "# 80-20 train-test split\n",
    "X_train, X_test, y_train, y_test = train_test_split(X, y, test_size = 0.2, random_state = 1)"
   ]
  },
  {
   "cell_type": "code",
   "execution_count": 61,
   "metadata": {},
   "outputs": [],
   "source": [
    "# Normalize\n",
    "sc = StandardScaler()\n",
    "X_train = sc.fit_transform(X_train)\n",
    "X_test = sc.fit_transform(X_test)\n",
    "\n",
    "N_test_red = len(X_test)"
   ]
  },
  {
   "cell_type": "code",
   "execution_count": 62,
   "metadata": {
    "executionInfo": {
     "elapsed": 593,
     "status": "ok",
     "timestamp": 1618274531199,
     "user": {
      "displayName": "Casey Justus",
      "photoUrl": "",
      "userId": "06906745805334060521"
     },
     "user_tz": 240
    },
    "id": "Hg2yC3qbovk_"
   },
   "outputs": [],
   "source": [
    "#Neural Network to generate predictions\n",
    "def predNN_2(X_train, y_train, wine_color = 'red'):\n",
    "    clf = GridSearchCV(estimator=MLPClassifier(max_iter=50000, random_state=42),\n",
    "          param_grid={'early_stopping' : [True, False],\n",
    "                      'hidden_layer_sizes': [100, 200, 300, 400, 500],\n",
    "                      'activation': ['relu', 'tanh', 'logistic'],\n",
    "                      'learning_rate': ['constant', 'invscaling', 'adaptive'],\n",
    "                      'learning_rate_init': [.0001, .001, .01, .1]},\n",
    "                      n_jobs = -1, verbose = 4)\n",
    "    \n",
    "    # Note (put in report): we picked the default 'adam' solver since, according to the scikit-learn documentation for MLPClassifier, \n",
    "    # it \"works pretty well on relatively large datasets (with thousands of training samples or more) \n",
    "    # in terms of both training time and validation score.\" Note that 'lgbfs' is very slow!!\n",
    "    \n",
    "    # Note: GridSearchCV by default performs 5-fold CV. \n",
    "    \n",
    "    print(\"Fitting\")\n",
    "    t0 = time.time()\n",
    "    clf.fit(X_train, y_train)\n",
    "    t1 = time.time()\n",
    "    print('Grid search CV time for', wine_color, 'wines took', t1 - t0, 'seconds')\n",
    "    print(\"Optimized parameters:\", clf.best_params_)\n",
    "    print(\"Weighted validation score:\", clf.best_score_)\n",
    "    return clf"
   ]
  },
  {
   "cell_type": "code",
   "execution_count": 63,
   "metadata": {
    "colab": {
     "base_uri": "https://localhost:8080/"
    },
    "executionInfo": {
     "elapsed": 3383536,
     "status": "ok",
     "timestamp": 1618277929036,
     "user": {
      "displayName": "Casey Justus",
      "photoUrl": "",
      "userId": "06906745805334060521"
     },
     "user_tz": 240
    },
    "id": "EoaPtCGNozj0",
    "outputId": "17084d71-3b6e-4baa-d1bf-39bca26724d8",
    "scrolled": true
   },
   "outputs": [
    {
     "name": "stdout",
     "output_type": "stream",
     "text": [
      "Fitting\n",
      "Fitting 5 folds for each of 360 candidates, totalling 1800 fits\n",
      "Grid search CV time for red wines took 2361.737888097763 seconds\n",
      "Optimized parameters: {'activation': 'logistic', 'early_stopping': False, 'hidden_layer_sizes': 500, 'learning_rate': 'constant', 'learning_rate_init': 0.1}\n",
      "Weighted validation score: 0.6254810049019608\n"
     ]
    }
   ],
   "source": [
    "#Calling Neural Network for Predictions\n",
    "classifier = predNN_2(X_train, y_train, 'red')\n",
    "preds = classifier.predict(X_test)"
   ]
  },
  {
   "cell_type": "code",
   "execution_count": 64,
   "metadata": {},
   "outputs": [],
   "source": [
    "# write cv results (such as mean fit times for each hyperparam configuration) to file\n",
    "with open('fcnn_gridcv_red_adam.txt', 'w') as file:\n",
    "    file.write(str(classifier.cv_results_))"
   ]
  },
  {
   "cell_type": "code",
   "execution_count": 65,
   "metadata": {},
   "outputs": [
    {
     "name": "stdout",
     "output_type": "stream",
     "text": [
      "Training time time for red wines took 3.13327693939209 seconds\n"
     ]
    }
   ],
   "source": [
    "activation = classifier.best_params_['activation']\n",
    "hidden_layer_sizes = classifier.best_params_['hidden_layer_sizes']\n",
    "learning_rate = classifier.best_params_['learning_rate']\n",
    "learning_rate_init = classifier.best_params_['learning_rate_init']\n",
    "early_stopping = classifier.best_params_['early_stopping']\n",
    "\n",
    "classifier = MLPClassifier(early_stopping=early_stopping, activation=activation, hidden_layer_sizes=hidden_layer_sizes, max_iter=50000, learning_rate=learning_rate, learning_rate_init=learning_rate_init)\n",
    "t0 = time.time()\n",
    "classifier.fit(X_train, y_train)\n",
    "t1 = time.time()\n",
    "print('Training time time for red wines took', t1 - t0, 'seconds')"
   ]
  },
  {
   "cell_type": "code",
   "execution_count": 66,
   "metadata": {
    "colab": {
     "base_uri": "https://localhost:8080/"
    },
    "executionInfo": {
     "elapsed": 515,
     "status": "ok",
     "timestamp": 1618278143453,
     "user": {
      "displayName": "Casey Justus",
      "photoUrl": "",
      "userId": "06906745805334060521"
     },
     "user_tz": 240
    },
    "id": "K3PsZopPo6qW",
    "outputId": "f8d8636b-c25f-4516-dd1d-4e24cef6f146"
   },
   "outputs": [
    {
     "data": {
      "text/plain": [
       "0.9984362783424551"
      ]
     },
     "execution_count": 66,
     "metadata": {},
     "output_type": "execute_result"
    }
   ],
   "source": [
    "#training accuracy\n",
    "train_accNN = accuracy_score(y_train, classifier.predict(X_train)) \n",
    "train_accNN"
   ]
  },
  {
   "cell_type": "code",
   "execution_count": 67,
   "metadata": {
    "colab": {
     "base_uri": "https://localhost:8080/"
    },
    "executionInfo": {
     "elapsed": 560,
     "status": "ok",
     "timestamp": 1618278161854,
     "user": {
      "displayName": "Casey Justus",
      "photoUrl": "",
      "userId": "06906745805334060521"
     },
     "user_tz": 240
    },
    "id": "FnlDbtlQo7PO",
    "outputId": "e336350b-3624-4422-ef32-acb885965bb7"
   },
   "outputs": [
    {
     "data": {
      "text/plain": [
       "0.653125"
      ]
     },
     "execution_count": 67,
     "metadata": {},
     "output_type": "execute_result"
    }
   ],
   "source": [
    "#test accuracy\n",
    "test_accNN_red = accuracy_score(y_test, classifier.predict(X_test)) \n",
    "test_accNN_red"
   ]
  },
  {
   "cell_type": "markdown",
   "metadata": {},
   "source": [
    "### White Wines Dataset ###"
   ]
  },
  {
   "cell_type": "code",
   "execution_count": 68,
   "metadata": {
    "scrolled": true
   },
   "outputs": [],
   "source": [
    "#import data\n",
    "label_quality = LabelEncoder()\n",
    "data_white = pandas.read_csv('winequality-white.csv', delimiter=';')\n",
    "data_white['quality'] = label_quality.fit_transform(data_white['quality'])\n",
    "y = data_white['quality']\n",
    "X = data_white[data_white.columns[:-1]]\n",
    "\n",
    "# 80-20 train-test split\n",
    "X_train, X_test, y_train, y_test = train_test_split(X, y, test_size = 0.2, random_state = 1)"
   ]
  },
  {
   "cell_type": "code",
   "execution_count": 69,
   "metadata": {
    "scrolled": false
   },
   "outputs": [],
   "source": [
    "# Normalize\n",
    "sc = StandardScaler()\n",
    "X_train = sc.fit_transform(X_train)\n",
    "X_test = sc.fit_transform(X_test)\n",
    "\n",
    "N_test_white = len(X_test)"
   ]
  },
  {
   "cell_type": "code",
   "execution_count": 70,
   "metadata": {
    "scrolled": true
   },
   "outputs": [
    {
     "name": "stdout",
     "output_type": "stream",
     "text": [
      "Fitting\n",
      "Fitting 5 folds for each of 360 candidates, totalling 1800 fits\n",
      "Grid search CV time for white wines took 17003.405514001846 seconds\n",
      "Optimized parameters: {'activation': 'relu', 'early_stopping': False, 'hidden_layer_sizes': 500, 'learning_rate': 'constant', 'learning_rate_init': 0.001}\n",
      "Weighted validation score: 0.6135774233064873\n"
     ]
    }
   ],
   "source": [
    "#Calling Neural Network for Predictions\n",
    "classifier = predNN_2(X_train, y_train, 'white')\n",
    "preds = classifier.predict(X_test)"
   ]
  },
  {
   "cell_type": "code",
   "execution_count": 71,
   "metadata": {},
   "outputs": [],
   "source": [
    "# write cv results (such as mean fit times for each hyperparam configuration) to file\n",
    "with open('fcnn_gridcv_white_adam.txt', 'w') as file:\n",
    "    file.write(str(classifier.cv_results_))"
   ]
  },
  {
   "cell_type": "code",
   "execution_count": 72,
   "metadata": {
    "scrolled": false
   },
   "outputs": [
    {
     "name": "stdout",
     "output_type": "stream",
     "text": [
      "Training time time for white wines took 46.954169034957886 seconds\n"
     ]
    }
   ],
   "source": [
    "activation = classifier.best_params_['activation']\n",
    "hidden_layer_sizes = classifier.best_params_['hidden_layer_sizes']\n",
    "learning_rate = classifier.best_params_['learning_rate']\n",
    "learning_rate_init = classifier.best_params_['learning_rate_init']\n",
    "early_stopping = classifier.best_params_['early_stopping']\n",
    "\n",
    "classifier = MLPClassifier(early_stopping=early_stopping, activation=activation, hidden_layer_sizes=hidden_layer_sizes, max_iter=50000, learning_rate=learning_rate, learning_rate_init=learning_rate_init)\n",
    "t0 = time.time()\n",
    "classifier.fit(X_train, y_train)\n",
    "t1 = time.time()\n",
    "print('Training time time for white wines took', t1 - t0, 'seconds')"
   ]
  },
  {
   "cell_type": "code",
   "execution_count": 73,
   "metadata": {
    "scrolled": false
   },
   "outputs": [
    {
     "data": {
      "text/plain": [
       "0.9834099030117407"
      ]
     },
     "execution_count": 73,
     "metadata": {},
     "output_type": "execute_result"
    }
   ],
   "source": [
    "#training accuracy\n",
    "train_accNN = accuracy_score(y_train, classifier.predict(X_train)) \n",
    "train_accNN"
   ]
  },
  {
   "cell_type": "code",
   "execution_count": 74,
   "metadata": {
    "scrolled": true
   },
   "outputs": [
    {
     "data": {
      "text/plain": [
       "0.6479591836734694"
      ]
     },
     "execution_count": 74,
     "metadata": {},
     "output_type": "execute_result"
    }
   ],
   "source": [
    "#test accuracy\n",
    "test_accNN_white = accuracy_score(y_test, classifier.predict(X_test)) \n",
    "test_accNN_white"
   ]
  },
  {
   "cell_type": "markdown",
   "metadata": {},
   "source": [
    "### Weighted Accuracy ###"
   ]
  },
  {
   "cell_type": "code",
   "execution_count": 75,
   "metadata": {},
   "outputs": [
    {
     "data": {
      "text/plain": [
       "0.6492307692307693"
      ]
     },
     "execution_count": 75,
     "metadata": {},
     "output_type": "execute_result"
    }
   ],
   "source": [
    "(N_test_red * test_accNN_red + N_test_white * test_accNN_white) / (N_test_white + N_test_red)"
   ]
  },
  {
   "cell_type": "code",
   "execution_count": null,
   "metadata": {},
   "outputs": [],
   "source": []
  }
 ],
 "metadata": {
  "colab": {
   "authorship_tag": "ABX9TyPAmzgoU9lZpwplAuHDHGWy",
   "name": "Neural Network 4780.ipynb",
   "provenance": []
  },
  "kernelspec": {
   "display_name": "Python 3",
   "language": "python",
   "name": "python3"
  },
  "language_info": {
   "codemirror_mode": {
    "name": "ipython",
    "version": 3
   },
   "file_extension": ".py",
   "mimetype": "text/x-python",
   "name": "python",
   "nbconvert_exporter": "python",
   "pygments_lexer": "ipython3",
   "version": "3.8.8"
  }
 },
 "nbformat": 4,
 "nbformat_minor": 1
}
