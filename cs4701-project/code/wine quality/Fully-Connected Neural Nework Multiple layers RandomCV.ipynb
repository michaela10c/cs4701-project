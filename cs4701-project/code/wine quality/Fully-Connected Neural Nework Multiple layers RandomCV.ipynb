{
 "cells": [
  {
   "cell_type": "code",
   "execution_count": 71,
   "id": "e84732fc",
   "metadata": {},
   "outputs": [],
   "source": [
    "import pandas\n",
    "import time\n",
    "from sklearn.preprocessing import StandardScaler, LabelEncoder, OneHotEncoder\n",
    "from sklearn.model_selection import train_test_split, GridSearchCV\n",
    "\n",
    "from pickle import dump,load\n",
    "import keras_tuner\n",
    "from keras_tuner.tuners import RandomSearch\n",
    "from tensorflow.keras.models import Sequential\n",
    "from tensorflow.keras.layers import Dense, LSTM, Dropout\n",
    "from keras.callbacks import EarlyStopping\n",
    "from sklearn.metrics import accuracy_score\n",
    "import numpy as np\n",
    "from tensorflow.keras.models import save_model"
   ]
  },
  {
   "cell_type": "markdown",
   "id": "4377eb4a",
   "metadata": {},
   "source": [
    "### Red Wines Dataset"
   ]
  },
  {
   "cell_type": "code",
   "execution_count": 72,
   "id": "66f08ba1",
   "metadata": {},
   "outputs": [],
   "source": [
    "#import data\n",
    "label_quality = LabelEncoder()\n",
    "data_red = pandas.read_csv('winequality-red.csv', delimiter=';')\n",
    "data_red['quality'] = label_quality.fit_transform(data_red['quality'])\n",
    "y = data_red['quality']\n",
    "X = data_red[data_red.columns[:-1]]\n",
    "\n",
    "onehot_encoder = OneHotEncoder(sparse=False)\n",
    "y = np.array(list(y)).reshape(len(y), 1)\n",
    "y = onehot_encoder.fit_transform(y).astype(int)\n",
    "\n",
    "# 80-20 train-test split\n",
    "X_train, X_test, y_train, y_test = train_test_split(X, y, test_size = 0.2, random_state = 1)"
   ]
  },
  {
   "cell_type": "code",
   "execution_count": 73,
   "id": "a09f0a18",
   "metadata": {},
   "outputs": [],
   "source": [
    "# Normalize\n",
    "sc = StandardScaler()\n",
    "X_train = sc.fit_transform(X_train)\n",
    "X_test = sc.fit_transform(X_test)\n",
    "\n",
    "N_test_red = len(X_test)"
   ]
  },
  {
   "cell_type": "code",
   "execution_count": 74,
   "id": "89468300",
   "metadata": {},
   "outputs": [],
   "source": [
    "def build_model(hp):\n",
    "    clf = Sequential()\n",
    "    # First Dense layer with Dropout regularisation\n",
    "    clf.add(Dense(hp.Int('input_unit', min_value=50,max_value=400,step=50), kernel_initializer='he_uniform', input_dim=X_train.shape[1]))\n",
    "    clf.add(Dropout(0.2))\n",
    "\n",
    "    # Consequent Dense layers\n",
    "    for i in range(hp.Int('n_layers', 1, 12)):\n",
    "        clf.add(Dense(hp.Int(f'lstm_{i}_units',min_value=50,max_value=400,step=50)))\n",
    "        clf.add(Dropout(hp.Float(f'Dropout_rate',min_value=0,max_value=0.5,step=0.1)))\n",
    "\n",
    "    # Another lSTM layer \n",
    "    clf.add(Dense(hp.Int('layer_2_neurons',min_value=50,max_value=400,step=50)))\n",
    "    clf.add(Dropout(hp.Float('Dropout_rate',min_value=0,max_value=0.5,step=0.1)))\n",
    "\n",
    "    # The output layer\n",
    "    clf.add(Dense(units=6, activation='softmax'))\n",
    "\n",
    "    # Compiling the NN\n",
    "    clf.compile(optimizer='adam',loss='mse', metrics=['mse'])\n",
    "\n",
    "    return clf"
   ]
  },
  {
   "cell_type": "code",
   "execution_count": 75,
   "id": "57e2a4ef",
   "metadata": {},
   "outputs": [],
   "source": [
    "#Neural Network to generate predictions\n",
    "def predNN_2(X_train, y_train, X_test, y_test, wine_color = 'red'):\n",
    "    tuner = RandomSearch(\n",
    "            build_model,\n",
    "            objective='mse',\n",
    "            max_trials=60, # different trials - different hyperparams\n",
    "            executions_per_trial=1, # executions w/in same trial - SAME hyperparams! \n",
    "            project_name='multi-hidden-layer-fcnn_red',\n",
    "#             overwrite=True # add overwrite=True to start over \n",
    "        ) \n",
    "    \n",
    "    es = EarlyStopping(monitor='val_loss', mode='min', verbose=1, patience=10)\n",
    "    \n",
    "    print(\"Fitting\")\n",
    "    t0 = time.time()\n",
    "    tuner.search(\n",
    "        x=X_train,\n",
    "        y=y_train,\n",
    "        epochs=100, \n",
    "        batch_size=32,\n",
    "        validation_data=(X_test,y_test),\n",
    "        callbacks=[es]\n",
    "    )\n",
    "    t1 = time.time()\n",
    "        \n",
    "    best_model = tuner.get_best_models(num_models=1)[0]\n",
    "    print('Random search CV time for', wine_color, 'wines took', t1 - t0, 'seconds')\n",
    "    print(\"Optimized parameters:\", best_model)\n",
    "    \n",
    "    return best_model"
   ]
  },
  {
   "cell_type": "code",
   "execution_count": 76,
   "id": "8e13e7e4",
   "metadata": {
    "scrolled": false
   },
   "outputs": [
    {
     "name": "stdout",
     "output_type": "stream",
     "text": [
      "Trial 60 Complete [00h 00m 05s]\n",
      "mse: 0.14413630962371826\n",
      "\n",
      "Best mse So Far: 0.09031747281551361\n",
      "Total elapsed time: 00h 06m 16s\n",
      "INFO:tensorflow:Oracle triggered exit\n",
      "Random search CV time for red wines took 376.85603404045105 seconds\n",
      "Optimized parameters: <keras.engine.sequential.Sequential object at 0x1521f61c0>\n"
     ]
    },
    {
     "name": "stderr",
     "output_type": "stream",
     "text": [
      "/Users/michaelzhou/opt/anaconda3/lib/python3.8/site-packages/keras/engine/training_v1.py:2079: UserWarning: `Model.state_updates` will be removed in a future version. This property should not be used in TensorFlow 2.0, as `updates` are applied automatically.\n",
      "  updates=self.state_updates,\n"
     ]
    }
   ],
   "source": [
    "#Calling Neural Network for Predictions\n",
    "classifier = predNN_2(X_train, y_train, X_test, y_test, 'red')\n",
    "preds = classifier.predict(X_test)\n",
    "preds = preds.round()"
   ]
  },
  {
   "cell_type": "code",
   "execution_count": 77,
   "id": "4b74c60e",
   "metadata": {
    "scrolled": false
   },
   "outputs": [
    {
     "data": {
      "text/plain": [
       "0.5215011727912432"
      ]
     },
     "execution_count": 77,
     "metadata": {},
     "output_type": "execute_result"
    }
   ],
   "source": [
    "train_accNN = accuracy_score(y_train, classifier.predict(X_train).round()) \n",
    "train_accNN"
   ]
  },
  {
   "cell_type": "code",
   "execution_count": 78,
   "id": "4705012d",
   "metadata": {
    "scrolled": false
   },
   "outputs": [
    {
     "data": {
      "text/plain": [
       "0.525"
      ]
     },
     "execution_count": 78,
     "metadata": {},
     "output_type": "execute_result"
    }
   ],
   "source": [
    "#test accuracy\n",
    "test_accNN_red = accuracy_score(y_test, preds) \n",
    "test_accNN_red"
   ]
  },
  {
   "cell_type": "code",
   "execution_count": 79,
   "id": "525df702",
   "metadata": {},
   "outputs": [],
   "source": [
    "# save model\n",
    "save_model(classifier,'multilayerFCNN_red_randomCV.h5')\n",
    "# dump(self.sc, open('data_scaler.pkl', 'wb'))"
   ]
  },
  {
   "cell_type": "markdown",
   "id": "020c8778",
   "metadata": {},
   "source": [
    "### White Wines Dataset"
   ]
  },
  {
   "cell_type": "code",
   "execution_count": 80,
   "id": "8bc3c8f2",
   "metadata": {},
   "outputs": [],
   "source": [
    "#import data\n",
    "label_quality = LabelEncoder()\n",
    "data_white = pandas.read_csv('winequality-white.csv', delimiter=';')\n",
    "data_white['quality'] = label_quality.fit_transform(data_white['quality'])\n",
    "y = data_white['quality']\n",
    "X = data_white[data_white.columns[:-1]]\n",
    "\n",
    "onehot_encoder = OneHotEncoder(sparse=False)\n",
    "y = np.array(list(y)).reshape(len(y), 1)\n",
    "y = onehot_encoder.fit_transform(y).astype(int)\n",
    "\n",
    "# 80-20 train-test split\n",
    "X_train, X_test, y_train, y_test = train_test_split(X, y, test_size = 0.2, random_state = 1)"
   ]
  },
  {
   "cell_type": "code",
   "execution_count": 81,
   "id": "fd99dc99",
   "metadata": {},
   "outputs": [],
   "source": [
    "# Normalize\n",
    "sc = StandardScaler()\n",
    "X_train = sc.fit_transform(X_train)\n",
    "X_test = sc.fit_transform(X_test)\n",
    "\n",
    "N_test_white = len(X_test)"
   ]
  },
  {
   "cell_type": "code",
   "execution_count": 82,
   "id": "938f7391",
   "metadata": {},
   "outputs": [],
   "source": [
    "def build_model_2(hp):\n",
    "    clf = Sequential()\n",
    "    # First Dense layer with Dropout regularisation\n",
    "    clf.add(Dense(hp.Int('input_unit', min_value=50,max_value=400,step=50), kernel_initializer='he_uniform', input_dim=X_train.shape[1]))\n",
    "    clf.add(Dropout(0.2))\n",
    "\n",
    "    # Consequent Dense layers\n",
    "    for i in range(hp.Int('n_layers', 1, 12)):\n",
    "        clf.add(Dense(hp.Int(f'lstm_{i}_units',min_value=50,max_value=400,step=50)))\n",
    "        clf.add(Dropout(hp.Float(f'Dropout_rate',min_value=0,max_value=0.5,step=0.1)))\n",
    "\n",
    "    # Another lSTM layer \n",
    "    clf.add(Dense(hp.Int('layer_2_neurons',min_value=50,max_value=400,step=50)))\n",
    "    clf.add(Dropout(hp.Float('Dropout_rate',min_value=0,max_value=0.5,step=0.1)))\n",
    "\n",
    "    # The output layer\n",
    "    clf.add(Dense(units=7, activation='softmax'))\n",
    "\n",
    "    # Compiling the NN\n",
    "    clf.compile(optimizer='adam',loss='mse', metrics=['mse'])\n",
    "\n",
    "    return clf"
   ]
  },
  {
   "cell_type": "code",
   "execution_count": 83,
   "id": "3e888825",
   "metadata": {},
   "outputs": [],
   "source": [
    "#Neural Network to generate predictions\n",
    "def predNN_3(X_train, y_train, X_test, y_test, wine_color = 'red'):\n",
    "    tuner = RandomSearch(\n",
    "            build_model_2,\n",
    "            objective='mse',\n",
    "            max_trials=60, # different trials - different hyperparams\n",
    "            executions_per_trial=1, # executions w/in same trial - SAME hyperparams! \n",
    "            project_name='multi-hidden-layer-fcnn_white',\n",
    "#             overwrite=True # add overwrite=True to start over\n",
    "        ) \n",
    "    \n",
    "    es = EarlyStopping(monitor='val_loss', mode='min', verbose=1, patience=10)\n",
    "    \n",
    "    print(\"Fitting\")\n",
    "    t0 = time.time()\n",
    "    tuner.search(\n",
    "        x=X_train,\n",
    "        y=y_train,\n",
    "        epochs=100, \n",
    "        batch_size=32,\n",
    "        validation_data=(X_test,y_test),\n",
    "        callbacks=[es]\n",
    "    )\n",
    "    t1 = time.time()\n",
    "        \n",
    "    best_model = tuner.get_best_models(num_models=1)[0]\n",
    "    print('Random search CV time for', wine_color, 'wines took', t1 - t0, 'seconds')\n",
    "    print(\"Optimized parameters:\", best_model)\n",
    "    \n",
    "    return best_model"
   ]
  },
  {
   "cell_type": "code",
   "execution_count": 84,
   "id": "32d106e6",
   "metadata": {
    "scrolled": true
   },
   "outputs": [
    {
     "name": "stdout",
     "output_type": "stream",
     "text": [
      "Trial 60 Complete [00h 00m 15s]\n",
      "mse: 0.14825348556041718\n",
      "\n",
      "Best mse So Far: 0.08640273660421371\n",
      "Total elapsed time: 00h 13m 24s\n",
      "INFO:tensorflow:Oracle triggered exit\n",
      "Random search CV time for white wines took 804.2011730670929 seconds\n",
      "Optimized parameters: <keras.engine.sequential.Sequential object at 0x151108a00>\n"
     ]
    },
    {
     "name": "stderr",
     "output_type": "stream",
     "text": [
      "/Users/michaelzhou/opt/anaconda3/lib/python3.8/site-packages/keras/engine/training_v1.py:2079: UserWarning: `Model.state_updates` will be removed in a future version. This property should not be used in TensorFlow 2.0, as `updates` are applied automatically.\n",
      "  updates=self.state_updates,\n"
     ]
    }
   ],
   "source": [
    "#Calling Neural Network for Predictions\n",
    "classifier = predNN_3(X_train, y_train, X_test, y_test, 'white')\n",
    "preds = classifier.predict(X_test)\n",
    "preds = preds.round()"
   ]
  },
  {
   "cell_type": "code",
   "execution_count": 85,
   "id": "f34b5b25",
   "metadata": {},
   "outputs": [
    {
     "data": {
      "text/plain": [
       "0.2664624808575804"
      ]
     },
     "execution_count": 85,
     "metadata": {},
     "output_type": "execute_result"
    }
   ],
   "source": [
    "train_accNN = accuracy_score(y_train, classifier.predict(X_train).round()) \n",
    "train_accNN"
   ]
  },
  {
   "cell_type": "code",
   "execution_count": 86,
   "id": "bd7ecd5e",
   "metadata": {
    "scrolled": true
   },
   "outputs": [
    {
     "data": {
      "text/plain": [
       "0.25204081632653064"
      ]
     },
     "execution_count": 86,
     "metadata": {},
     "output_type": "execute_result"
    }
   ],
   "source": [
    "#test accuracy\n",
    "test_accNN_white = accuracy_score(y_test, preds) \n",
    "test_accNN_white"
   ]
  },
  {
   "cell_type": "code",
   "execution_count": 87,
   "id": "48a3daeb",
   "metadata": {},
   "outputs": [],
   "source": [
    "# save model\n",
    "save_model(classifier,'multilayerFCNN_white_randomCV.h5')\n",
    "# dump(self.sc, open('data_scaler.pkl', 'wb'))"
   ]
  },
  {
   "cell_type": "markdown",
   "id": "be181639",
   "metadata": {},
   "source": [
    "### Weighted Accuracy"
   ]
  },
  {
   "cell_type": "code",
   "execution_count": 88,
   "id": "9b0b8ccb",
   "metadata": {
    "scrolled": false
   },
   "outputs": [
    {
     "data": {
      "text/plain": [
       "0.3192307692307692"
      ]
     },
     "execution_count": 88,
     "metadata": {},
     "output_type": "execute_result"
    }
   ],
   "source": [
    "(N_test_red * test_accNN_red + N_test_white * test_accNN_white) / (N_test_white + N_test_red)"
   ]
  },
  {
   "cell_type": "code",
   "execution_count": null,
   "id": "147bd53c",
   "metadata": {},
   "outputs": [],
   "source": []
  },
  {
   "cell_type": "code",
   "execution_count": null,
   "id": "207a500a",
   "metadata": {},
   "outputs": [],
   "source": []
  }
 ],
 "metadata": {
  "kernelspec": {
   "display_name": "Python 3",
   "language": "python",
   "name": "python3"
  },
  "language_info": {
   "codemirror_mode": {
    "name": "ipython",
    "version": 3
   },
   "file_extension": ".py",
   "mimetype": "text/x-python",
   "name": "python",
   "nbconvert_exporter": "python",
   "pygments_lexer": "ipython3",
   "version": "3.8.8"
  }
 },
 "nbformat": 4,
 "nbformat_minor": 5
}
