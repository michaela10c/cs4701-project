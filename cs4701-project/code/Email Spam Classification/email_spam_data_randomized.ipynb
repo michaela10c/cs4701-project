{
 "cells": [
  {
   "cell_type": "code",
   "execution_count": null,
   "metadata": {
    "id": "KNloQRaj5NZi"
   },
   "outputs": [],
   "source": [
    "#import libraries\n",
    "import numpy as np\n",
    "import pandas\n",
    "from sklearn.linear_model import LogisticRegression, LogisticRegressionCV\n",
    "from sklearn.model_selection import train_test_split, RandomizedSearchCV, GridSearchCV\n",
    "from sklearn.metrics import accuracy_score\n",
    "from sklearn.neural_network import MLPClassifier\n",
    "from sklearn.neural_network import MLPRegressor\n",
    "from sklearn.metrics import classification_report\n",
    "import time"
   ]
  },
  {
   "cell_type": "code",
   "execution_count": null,
   "metadata": {
    "id": "fx3K2aKC5bKq"
   },
   "outputs": [],
   "source": [
    "#import data\n",
    "data_small = pandas.read_csv('emails.csv')\n",
    "y = data_small['Prediction'] #original\n",
    "X = data_small[data_small.columns[1:-1]] #original\n",
    "\n",
    "# 80-20 train-test split\n",
    "X_train, X_test, y_train, y_test = train_test_split(X, y, test_size = 0.2, random_state = 1)"
   ]
  },
  {
   "cell_type": "code",
   "execution_count": null,
   "metadata": {
    "id": "j-B98eB65tmL"
   },
   "outputs": [],
   "source": [
    "#preprocess\n",
    "\n",
    "indices_to_keep=~X_train.isin([np.nan,np.inf,-np.inf]).any(1)\n",
    "\n",
    "X_train=X_train[indices_to_keep]\n",
    "y_train=y_train[indices_to_keep]\n",
    "\n",
    "indices_to_keep_test=~X_test.isin([np.nan,np.inf,-np.inf]).any(1)\n",
    "\n",
    "X_test=X_test[indices_to_keep_test]\n",
    "y_test=y_test[indices_to_keep_test]"
   ]
  },
  {
   "cell_type": "code",
   "execution_count": null,
   "metadata": {
    "id": "s6uPjNuo5vx-"
   },
   "outputs": [],
   "source": [
    "#Neural Network to generate predictions\n",
    "def predNN_2(X_train, y_train):\n",
    "    clf = RandomizedSearchCV(MLPClassifier(max_iter=50000),\n",
    "                      {'early_stopping' : [True, False],\n",
    "                      'hidden_layer_sizes': [100, 150],\n",
    "                      'activation': ['relu','tanh'],\n",
    "                      'learning_rate': ['constant','adaptive'],\n",
    "                      'learning_rate_init': [0.01, 0.1],\n",
    "                      'solver': ['adam']},\n",
    "                      cv=5,n_jobs=-1,verbose=6, random_state=1, n_iter=32) \n",
    "    \n",
    "    print(\"Fitting\")\n",
    "    t0 = time.time()\n",
    "    clf.fit(X_train, y_train)\n",
    "    t1 = time.time()\n",
    "    print(\"Optimized parameters:\", clf.best_params_)\n",
    "    print(\"Weighted validation score:\", clf.best_score_)\n",
    "    print(\"time:\", t1-t0)\n",
    "    return clf"
   ]
  },
  {
   "cell_type": "code",
   "execution_count": null,
   "metadata": {
    "colab": {
     "base_uri": "https://localhost:8080/"
    },
    "id": "5ZPc7WlW6-7X",
    "outputId": "1669c925-8b22-44b7-e5e3-60805efacbbc"
   },
   "outputs": [
    {
     "name": "stdout",
     "output_type": "stream",
     "text": [
      "Fitting\n",
      "Fitting 5 folds for each of 32 candidates, totalling 160 fits\n",
      "Optimized parameters: {'solver': 'adam', 'learning_rate_init': 0.01, 'learning_rate': 'adaptive', 'hidden_layer_sizes': 150, 'early_stopping': False, 'activation': 'relu'}\n",
      "Weighted validation score: 0.981386362441512\n",
      "time: 2056.2531270980835\n"
     ]
    }
   ],
   "source": [
    "#Calling Neural Network for Predictions\n",
    "\n",
    "classifier = predNN_2(X_train.values, y_train.values)\n",
    "preds = classifier.predict(X_test.values)"
   ]
  },
  {
   "cell_type": "code",
   "execution_count": null,
   "metadata": {
    "id": "KlKVPmGk7TrG"
   },
   "outputs": [],
   "source": [
    "with open('randomcv_adam.txt', 'w') as file:\n",
    "    file.write(str(classifier.cv_results_))"
   ]
  },
  {
   "cell_type": "code",
   "execution_count": null,
   "metadata": {
    "colab": {
     "base_uri": "https://localhost:8080/"
    },
    "id": "k-ywYMDi8FCQ",
    "outputId": "444b7378-fab0-4be3-945f-c834d8a81811"
   },
   "outputs": [
    {
     "name": "stdout",
     "output_type": "stream",
     "text": [
      "Training time is 47.68662929534912 seconds\n"
     ]
    }
   ],
   "source": [
    "activation = classifier.best_params_['activation']\n",
    "hidden_layer_sizes = classifier.best_params_['hidden_layer_sizes']\n",
    "learning_rate = classifier.best_params_['learning_rate']\n",
    "learning_rate_init = classifier.best_params_['learning_rate_init']\n",
    "early_stopping = classifier.best_params_['early_stopping']\n",
    "\n",
    "classifier = MLPClassifier(early_stopping=early_stopping, activation=activation, hidden_layer_sizes=hidden_layer_sizes, max_iter=50000, learning_rate=learning_rate, learning_rate_init=learning_rate_init)\n",
    "t0 = time.time()\n",
    "classifier.fit(X_train.values, y_train.values)\n",
    "t1 = time.time()\n",
    "print('Training time is', t1 - t0, 'seconds')"
   ]
  },
  {
   "cell_type": "code",
   "execution_count": null,
   "metadata": {
    "colab": {
     "base_uri": "https://localhost:8080/"
    },
    "id": "tIQkK9jv8Pc9",
    "outputId": "dc1ec4ed-e9dc-4e3d-ff49-35dfab9dd905"
   },
   "outputs": [
    {
     "data": {
      "text/plain": [
       "1.0"
      ]
     },
     "execution_count": 12,
     "metadata": {},
     "output_type": "execute_result"
    }
   ],
   "source": [
    "#training accuracy\n",
    "train_accNN = accuracy_score(y_train.values, classifier.predict(X_train.values)) \n",
    "train_accNN"
   ]
  },
  {
   "cell_type": "code",
   "execution_count": null,
   "metadata": {
    "colab": {
     "base_uri": "https://localhost:8080/"
    },
    "id": "Mic9ReCN8ZJl",
    "outputId": "5dd66520-bb7a-4731-f5d9-58ddb66038b7"
   },
   "outputs": [
    {
     "data": {
      "text/plain": [
       "0.9797101449275363"
      ]
     },
     "execution_count": 13,
     "metadata": {},
     "output_type": "execute_result"
    }
   ],
   "source": [
    "#test accuracy\n",
    "test_accNN = accuracy_score(y_test.values, classifier.predict(X_test.values)) \n",
    "test_accNN"
   ]
  }
 ],
 "metadata": {
  "colab": {
   "name": "randomized_4701.ipynb",
   "provenance": []
  },
  "kernelspec": {
   "display_name": "Python 3",
   "language": "python",
   "name": "python3"
  },
  "language_info": {
   "codemirror_mode": {
    "name": "ipython",
    "version": 3
   },
   "file_extension": ".py",
   "mimetype": "text/x-python",
   "name": "python",
   "nbconvert_exporter": "python",
   "pygments_lexer": "ipython3",
   "version": "3.8.8"
  }
 },
 "nbformat": 4,
 "nbformat_minor": 1
}
